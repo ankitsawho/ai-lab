{
 "cells": [
  {
   "cell_type": "markdown",
   "id": "589906b6",
   "metadata": {},
   "source": [
    "<img src=\"./dia.png\">"
   ]
  },
  {
   "cell_type": "code",
   "execution_count": 1,
   "id": "796789a5",
   "metadata": {},
   "outputs": [],
   "source": [
    "dependencies = {\n",
    "    'firefox' : ['dbus-glib','ffmpeg','gtk3','libpulse','libxt'],\n",
    "    'dbus-glib' : ['dbus', 'glib2'],\n",
    "    'ffmpeg' : ['alsa-lib', 'aom','bzip2','fribidi','gmp'],\n",
    "    'gtk3': ['atk','cairo','dconf','fribidi','json-glib'],\n",
    "    'libpulse':['dbus','libasyncns','libcap','libsm', 'glib2'],\n",
    "    'libxt':['libsm','libx11'],\n",
    "    'dbus':['audit', 'expat'],\n",
    "    'glib2':['libffi','zlib','pcre'],\n",
    "    'alsa-lib':['glibc','alsa-ucm','conf'],\n",
    "    'aom':['gcc-libs'],\n",
    "    'bzip2':['glibc'],\n",
    "    'fribidi':['glibc'],\n",
    "    'gmp':['gcc-libs'],\n",
    "    'atk':['glib2'],\n",
    "    'cairo':['glib2','libpng'],\n",
    "    'dconf':['glib2','dbus'],\n",
    "    'json-glib':['glib2'],\n",
    "    'libasyncns':['glibc','lynx'],\n",
    "    'libcap':['glibc','pam'],\n",
    "    'libsm':['libice','libutil-linux'],\n",
    "    'glib2':['libffi','pcre','zlib','util-linux-libs'],\n",
    "    'libsm':['libice','xtrans','xorgproto'],\n",
    "    'libx11':['libxcb','xorgproto', 'xtrans']\n",
    "}"
   ]
  },
  {
   "cell_type": "code",
   "execution_count": 2,
   "id": "a9339db8",
   "metadata": {},
   "outputs": [],
   "source": [
    "def BFS(package, dependencies = dependencies):\n",
    "    visited = []\n",
    "    queue = []\n",
    "    queue.append(package)\n",
    "    visited.append(package)\n",
    "\n",
    "    while queue:\n",
    "        pkg = queue.pop(0) \n",
    "        print (\"-\",pkg)\n",
    "        if pkg in dependencies:\n",
    "            for subpkg in dependencies[pkg]:\n",
    "                if subpkg not in visited:\n",
    "                    visited.append(subpkg)\n",
    "                    queue.append(subpkg)\n"
   ]
  },
  {
   "cell_type": "code",
   "execution_count": 5,
   "id": "88c75c8b",
   "metadata": {},
   "outputs": [
    {
     "name": "stdout",
     "output_type": "stream",
     "text": [
      "- glib2\n",
      "- libffi\n",
      "- pcre\n",
      "- zlib\n",
      "- util-linux-libs\n"
     ]
    }
   ],
   "source": [
    "BFS('glib2')"
   ]
  },
  {
   "cell_type": "code",
   "execution_count": null,
   "id": "b2cdf9bd",
   "metadata": {},
   "outputs": [],
   "source": []
  }
 ],
 "metadata": {
  "kernelspec": {
   "display_name": "Python 3 (ipykernel)",
   "language": "python",
   "name": "python3"
  },
  "language_info": {
   "codemirror_mode": {
    "name": "ipython",
    "version": 3
   },
   "file_extension": ".py",
   "mimetype": "text/x-python",
   "name": "python",
   "nbconvert_exporter": "python",
   "pygments_lexer": "ipython3",
   "version": "3.9.7"
  }
 },
 "nbformat": 4,
 "nbformat_minor": 5
}
