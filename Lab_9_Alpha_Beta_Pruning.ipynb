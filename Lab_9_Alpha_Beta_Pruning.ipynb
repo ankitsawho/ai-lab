{
 "cells": [
  {
   "cell_type": "code",
   "execution_count": null,
   "metadata": {},
   "outputs": [],
   "source": [
    "MAX, MIN = 1000, -1000\n",
    "def minimax(depth, nodeIndex, maximizingPlayer,values, alpha, beta):\n",
    "\tif depth == 3:\n",
    "\t\treturn values[nodeIndex]\n",
    "\tif maximizingPlayer:\n",
    "\t\tbest = MIN\n",
    "\t\tfor i in range(0, 2):\n",
    "\t\t\tval = minimax(depth + 1, nodeIndex * 2 + i,False, values, alpha, beta)\n",
    "\t\t\tbest = max(best, val)\n",
    "\t\t\talpha = max(alpha, best)\n",
    "\t\t\tif beta <= alpha:\n",
    "\t\t\t\tbreak\n",
    "\t\treturn best\n",
    "\telse:\n",
    "\t\tbest = MAX\n",
    "\t\tfor i in range(0, 2):\n",
    "\t\t\tval = minimax(depth + 1, nodeIndex * 2 + i,True, values, alpha, beta)\n",
    "\t\t\tbest = min(best, val)\n",
    "\t\t\tbeta = min(beta, best)\n",
    "\t\t\tif beta <= alpha:\n",
    "\t\t\t\tbreak\n",
    "\t\treturn best\n",
    "\n",
    "if __name__ == \"__main__\":\n",
    "\tvalues = [3, 5, 6, 9, 1, 2, 0, -1]\n",
    "\tprint(\"The optimal value is :\", minimax(0, 0, True, values, MIN, MAX))"
   ]
  }
 ],
 "metadata": {
  "interpreter": {
   "hash": "a07a41ca4490f177ef685d98d941fa5eeb07682e7a8017082b45e1c3ecde97cf"
  },
  "kernelspec": {
   "display_name": "Python 3.9.7 ('base')",
   "language": "python",
   "name": "python3"
  },
  "language_info": {
   "name": "python",
   "version": "3.9.7"
  },
  "orig_nbformat": 4
 },
 "nbformat": 4,
 "nbformat_minor": 2
}
