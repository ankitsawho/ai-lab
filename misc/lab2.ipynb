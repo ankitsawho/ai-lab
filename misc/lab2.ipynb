{
 "cells": [
  {
   "cell_type": "markdown",
   "metadata": {},
   "source": [
    "#### Agent"
   ]
  },
  {
   "cell_type": "code",
   "execution_count": 9,
   "metadata": {},
   "outputs": [],
   "source": [
    "import random as r"
   ]
  },
  {
   "cell_type": "code",
   "execution_count": 10,
   "metadata": {},
   "outputs": [],
   "source": [
    "class environment:\n",
    "    def __init__(self, n):\n",
    "        self.size = n\n",
    "        l = [' ', '#', 'o']\n",
    "        self.field = [[]]*(n+2)\n",
    "        self.field[0] = ['#']*(n+2)\n",
    "        self.field[n+1] = ['#']*(n+2)\n",
    "        for i in range(1,n+1):\n",
    "            self.field[i] = ['#']+r.choices(l,weights=[20,1,1], k = n)+['#']\n",
    "            \n",
    "    def display(self):\n",
    "        for i in range(self.size+2):\n",
    "            for j in range(self.size+2):\n",
    "                print(self.field[i][j], end='')\n",
    "            print()\n",
    "            \n",
    "    def get_property(self,x,y):\n",
    "        return self.field[x][y]"
   ]
  },
  {
   "cell_type": "code",
   "execution_count": 11,
   "metadata": {
    "scrolled": false
   },
   "outputs": [
    {
     "name": "stdout",
     "output_type": "stream",
     "text": [
      "####################################################\n",
      "#  #        o                          o           #\n",
      "#        oo      #          #   #                  #\n",
      "#                                  #  #            #\n",
      "#              #  # o# #           #               #\n",
      "#                 o       o     o    #            o#\n",
      "#      #  o  #                       o  #   #      #\n",
      "#                 #o           #         o   #     #\n",
      "#o  #o   oo     o     #   #      o         o #   o #\n",
      "##          ##         o oo       o     #          #\n",
      "#    #                       #                     #\n",
      "#  o ##          o   o          o   o          o   #\n",
      "#   o#    o                   #       #  #         #\n",
      "##  #  #                                           #\n",
      "#       #                 #               o        #\n",
      "#  oo          #           #                       #\n",
      "#         o            o     #           #         #\n",
      "#                  o  oo                        #  #\n",
      "#   o          #                  o            #   #\n",
      "#                                       #   o##    #\n",
      "#      #                       o                   #\n",
      "#                  #o                              #\n",
      "#       oo o  #      o       o      o #            #\n",
      "#          o         #    #                        #\n",
      "#       o       o                   #     oo       #\n",
      "#        o             o##         o             o #\n",
      "#      o#      o          o                        #\n",
      "#           #          #                           #\n",
      "#  #   o              o        #     o             #\n",
      "#     #          o          #                 o    #\n",
      "#              o         # #       #               #\n",
      "#    #       #  o  o                        o o#   #\n",
      "# o     #      #     o     #          ##   o       #\n",
      "##               #  #       o                      #\n",
      "#                          # o   o #               #\n",
      "##                         #     #                 #\n",
      "#    #            #        o   oo  ##        o     #\n",
      "#       #              #         o                 #\n",
      "#                        o                  o#     #\n",
      "#                       #                  #   o  ##\n",
      "#          o        #                o  #  o       #\n",
      "#          #   o           o            oo o     oo#\n",
      "#     #                    #            o#         #\n",
      "# o                    #       o         o #       #\n",
      "#    #         ## #                        o       #\n",
      "#   o       #         #  o             oo          #\n",
      "#       o  # o                        o            #\n",
      "#  ##     #          #o  o               #         #\n",
      "#               #          #        oo           o #\n",
      "#       # #       o     o            o       o     #\n",
      "#o          o   ##o                      o   o     #\n",
      "####################################################\n"
     ]
    }
   ],
   "source": [
    "env = environment(50)\n",
    "env.display()"
   ]
  },
  {
   "cell_type": "code",
   "execution_count": 12,
   "metadata": {},
   "outputs": [],
   "source": [
    "class agent:\n",
    "    def __init__(self,env,name,x,y):\n",
    "        self.env = env\n",
    "        self.name = name\n",
    "        self.x = x\n",
    "        self.y = y\n",
    "        self.distance = 0\n",
    "        self.coins = 0\n",
    "    \n",
    "    def move_up(self):\n",
    "        self.y+=1\n",
    "        self.distance+=1\n",
    "\n",
    "    def move_down(self):\n",
    "        self.y-=1\n",
    "        self.distance+=1        \n",
    "\n",
    "    def move_right(self):\n",
    "        self.x+=1\n",
    "        self.distance+=1        \n",
    "\n",
    "    def move_left(self):\n",
    "        self.x-=1\n",
    "        self.distance+=1\n",
    "\n",
    "    def move(self):\n",
    "        if(self.x >= self.env.size or self.y >= self.env.size):\n",
    "            return\n",
    "        left = self.env.get_property(self.x-1,self.y)\n",
    "        right = self.env.get_property(self.x+1,self.y)\n",
    "        up = self.env.get_property(self.x,self.y+1)\n",
    "        down = self.env.get_property(self.x,self.y-1)\n",
    "        print(right,left,up,down)\n",
    "        \n",
    "        if right != \"#\":\n",
    "            if right == 'o':\n",
    "                self.env.field[self.x+1][self.y] = ' '\n",
    "                self.coins+=1\n",
    "            self.move_right()\n",
    "            self.env.field[self.x+1][self.y] = '-'\n",
    "        \n",
    "        elif up != \"#\":\n",
    "            if up == 'o':\n",
    "                self.env.field[self.x][self.y+1] = ' '\n",
    "                self.coins+=1\n",
    "            self.move_up()\n",
    "            self.env.field[self.x][self.y+1] = '-'\n",
    "        \n",
    "        elif left!= \"#\":\n",
    "            if left == 'o':\n",
    "                self.env.field[self.x-1][self.y] = ' '\n",
    "                self.coins+=1\n",
    "            self.move_left()\n",
    "            self.env.field[self.x-1][self.y] = '-'\n",
    "        \n",
    "        elif down!= \"#\":\n",
    "            if down == 'o':\n",
    "                self.env.field[self.x][self.y-1] = ' '\n",
    "                self.coins+=1\n",
    "            self.move_down()\n",
    "            self.env.field[self.x][self.y-1] = '-'\n",
    "        \n",
    "        else:\n",
    "            print(\"* Collision *\")\n",
    "            return False\n",
    "        return True\n",
    "        \n",
    "\n",
    "    def tell_distance(self):\n",
    "        print(self.distance)\n",
    "\n",
    "    def tell_displacement(self):\n",
    "        print(((self.x)**2 + (self.y)**2)**(0.5))\n",
    "\n",
    "    def tell_position(self):\n",
    "        print((self.x, self.y))\n",
    "    \n",
    "    def tell_score(self):\n",
    "        print(self.coins)\n"
   ]
  },
  {
   "cell_type": "code",
   "execution_count": 13,
   "metadata": {},
   "outputs": [
    {
     "name": "stdout",
     "output_type": "stream",
     "text": [
      "#      \n",
      "(22, 22)\n",
      "None\n",
      "    - o\n",
      "(23, 22)\n",
      "None\n",
      "-     #\n",
      "(24, 22)\n",
      "None\n",
      "-      \n",
      "(25, 22)\n",
      "None\n",
      "- - o  \n",
      "(26, 22)\n",
      "None\n",
      "- -    \n",
      "(27, 22)\n",
      "None\n",
      "- - #  \n",
      "(28, 22)\n",
      "None\n",
      "- -    \n",
      "(29, 22)\n",
      "None\n",
      "- -    \n",
      "(30, 22)\n",
      "None\n",
      "- -    \n",
      "(31, 22)\n",
      "None\n",
      "- -    \n",
      "(32, 22)\n",
      "None\n",
      "- -   o\n",
      "(33, 22)\n",
      "None\n",
      "- -    \n",
      "(34, 22)\n",
      "None\n",
      "- -    \n",
      "(35, 22)\n",
      "None\n",
      "- -    \n",
      "(36, 22)\n",
      "None\n",
      "- -    \n",
      "(37, 22)\n",
      "None\n",
      "- - #  \n",
      "(38, 22)\n",
      "None\n",
      "- -    \n",
      "(39, 22)\n",
      "None\n",
      "- -    \n",
      "(40, 22)\n",
      "None\n",
      "- -    \n",
      "(41, 22)\n",
      "None\n",
      "- -    \n",
      "(42, 22)\n",
      "None\n",
      "- -    \n",
      "(43, 22)\n",
      "None\n",
      "- - #  \n",
      "(44, 22)\n",
      "None\n",
      "- -    \n",
      "(45, 22)\n",
      "None\n",
      "- -    \n",
      "(46, 22)\n",
      "None\n",
      "- -    \n",
      "(47, 22)\n",
      "None\n",
      "- -   #\n",
      "(48, 22)\n",
      "None\n",
      "- -    \n",
      "(49, 22)\n",
      "None\n",
      "- -    \n",
      "(50, 22)\n",
      "None\n"
     ]
    }
   ],
   "source": [
    "a = agent(env,\"A1\",22,21)\n",
    "while(a.move()):\n",
    "#     a.tell_displacement()\n",
    "#     a.tell_distance()\n",
    "    print(a.tell_position())"
   ]
  },
  {
   "cell_type": "code",
   "execution_count": 14,
   "metadata": {},
   "outputs": [
    {
     "name": "stdout",
     "output_type": "stream",
     "text": [
      "(50, 22)\n"
     ]
    }
   ],
   "source": [
    "a.move()\n",
    "a.tell_position()"
   ]
  },
  {
   "cell_type": "code",
   "execution_count": 7,
   "metadata": {},
   "outputs": [
    {
     "name": "stdout",
     "output_type": "stream",
     "text": [
      "54.230987451824994\n",
      "28\n"
     ]
    }
   ],
   "source": [
    "a.tell_displacement()\n",
    "a.tell_distance()"
   ]
  },
  {
   "cell_type": "code",
   "execution_count": 8,
   "metadata": {},
   "outputs": [
    {
     "name": "stdout",
     "output_type": "stream",
     "text": [
      "0\n"
     ]
    }
   ],
   "source": [
    "a.tell_score()"
   ]
  },
  {
   "cell_type": "code",
   "execution_count": 15,
   "metadata": {},
   "outputs": [
    {
     "name": "stdout",
     "output_type": "stream",
     "text": [
      "####################################################\n",
      "#  #        o                          o           #\n",
      "#        oo      #          #   #                  #\n",
      "#                                  #  #            #\n",
      "#              #  # o# #           #               #\n",
      "#                 o       o     o    #            o#\n",
      "#      #  o  #                       o  #   #      #\n",
      "#                 #o           #         o   #     #\n",
      "#o  #o   oo     o     #   #      o         o #   o #\n",
      "##          ##         o oo       o     #          #\n",
      "#    #                       #                     #\n",
      "#  o ##          o   o          o   o          o   #\n",
      "#   o#    o                   #       #  #         #\n",
      "##  #  #                                           #\n",
      "#       #                 #               o        #\n",
      "#  oo          #           #                       #\n",
      "#         o            o     #           #         #\n",
      "#                  o  oo                        #  #\n",
      "#   o          #                  o            #   #\n",
      "#                                       #   o##    #\n",
      "#      #                       o                   #\n",
      "#                  #o                              #\n",
      "#       oo o  #      o -     o      o #            #\n",
      "#          o         #    #                        #\n",
      "#       o       o     -             #     oo       #\n",
      "#        o            -o##         o             o #\n",
      "#      o#      o      -   o                        #\n",
      "#           #         -#                           #\n",
      "#  #   o              -        #     o             #\n",
      "#     #          o    -     #                 o    #\n",
      "#              o      -  # #       #               #\n",
      "#    #       #  o  o  -                     o o#   #\n",
      "# o     #      #     o-    #          ##   o       #\n",
      "##               #  # -     o                      #\n",
      "#                     -    # o   o #               #\n",
      "##                    -    #     #                 #\n",
      "#    #            #   -    o   oo  ##        o     #\n",
      "#       #             -#         o                 #\n",
      "#                     -  o                  o#     #\n",
      "#                     - #                  #   o  ##\n",
      "#          o        # -              o  #  o       #\n",
      "#          #   o      -    o            oo o     oo#\n",
      "#     #               -    #            o#         #\n",
      "# o                   -#       o         o #       #\n",
      "#    #         ## #   -                    o       #\n",
      "#   o       #         -  o             oo          #\n",
      "#       o  # o        -               o            #\n",
      "#  ##     #          #-  o               #         #\n",
      "#               #     -    #        oo           o #\n",
      "#       # #       o   - o            o       o     #\n",
      "#o          o   ##o   -                  o   o     #\n",
      "######################-#############################\n"
     ]
    }
   ],
   "source": [
    "env.display()"
   ]
  },
  {
   "cell_type": "code",
   "execution_count": null,
   "metadata": {},
   "outputs": [],
   "source": []
  }
 ],
 "metadata": {
  "interpreter": {
   "hash": "2aebda818a169aea41a99faf69592355bd76064c1e0d307ab04f834d7bb7564d"
  },
  "kernelspec": {
   "display_name": "Python 3 (ipykernel)",
   "language": "python",
   "name": "python3"
  },
  "language_info": {
   "codemirror_mode": {
    "name": "ipython",
    "version": 3
   },
   "file_extension": ".py",
   "mimetype": "text/x-python",
   "name": "python",
   "nbconvert_exporter": "python",
   "pygments_lexer": "ipython3",
   "version": "3.9.7"
  }
 },
 "nbformat": 4,
 "nbformat_minor": 2
}
